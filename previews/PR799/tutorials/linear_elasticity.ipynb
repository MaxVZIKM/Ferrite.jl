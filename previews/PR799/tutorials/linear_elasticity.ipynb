{
 "cells": [
  {
   "cell_type": "markdown",
   "source": [
    "# Linear elasticity\n",
    "\n",
    "![](linear_elasticity.png)\n",
    "\n",
    "*Figure 1*: Linear elastically deformed Ferrite logo."
   ],
   "metadata": {}
  },
  {
   "cell_type": "markdown",
   "source": [
    "## Introduction\n",
    "\n",
    "The classical first finite element problem to solve in solid mechanics is a linear balance\n",
    "of momentum problem. We will use this to introduce a vector valued field, as well as the\n",
    "[`Tensors.jl`](https://github.com/Ferrite-FEM/Tensors.jl) toolbox.\n",
    "\n",
    "The strong form of the balance of momentum is given by\n",
    "$$\n",
    " -\\boldsymbol{\\sigma} \\cdot \\boldsymbol{\\nabla} = \\boldsymbol{b}  \\quad \\textbf{x} \\in \\Omega,\n",
    "$$\n",
    "where $\\boldsymbol{\\sigma}$ is the stress tensor, $\\boldsymbol{b}$ is the body force and\n",
    "$\\Omega$ the domain.\n",
    "\n",
    "In this example, we use linear elasticity, such that\n",
    "$$\n",
    "\\boldsymbol{\\sigma} = \\boldsymbol{E} : \\boldsymbol \\varepsilon\n",
    "$$\n",
    "where $\\boldsymbol{E}$ is the elastic stiffness tensor and $\\boldsymbol{\\varepsilon}$ is\n",
    "the small strain tensor that is computed from the displacement field $\\boldsymbol{u}$ as\n",
    "$$\n",
    "\\boldsymbol{\\varepsilon} = \\frac{1}{2} \\left(\n",
    "  \\boldsymbol{\\nabla} \\otimes \\boldsymbol{u}\n",
    "  +\n",
    "  \\boldsymbol{u} \\otimes \\boldsymbol{\\nabla}\n",
    "\\right)\n",
    "$$\n",
    "\n",
    "The resulting weak form is given given as follows: Find $\\boldsymbol{u} \\in \\mathbb{U}$ such that\n",
    "$$\n",
    "\\int_\\Omega\n",
    "  \\boldsymbol{\\sigma} : \\left(\\delta \\boldsymbol{u} \\otimes \\boldsymbol{\\nabla} \\right)\n",
    "\\, \\mathrm{d}V\n",
    "=\n",
    "\\int_{\\partial\\Omega}\n",
    "  \\boldsymbol{t}^\\ast \\cdot \\delta \\boldsymbol{u}\n",
    "\\, \\mathrm{d}A\n",
    "+\n",
    "\\int_\\Omega\n",
    "  \\boldsymbol{b} \\cdot \\delta \\boldsymbol{u}\n",
    "\\, \\mathrm{d}V\n",
    "\\quad \\forall \\, \\delta \\boldsymbol{u} \\in \\mathbb{T},\n",
    "$$\n",
    "where $\\delta \\boldsymbol{u}$ is a vector valued test function, and where $\\mathbb{U}$ and\n",
    "$\\mathbb{T}$ are suitable trial and test function sets, respectively. The boundary traction\n",
    "is denoted $\\boldsymbol{t}^\\ast$ and body forces are denoted $\\boldsymbol{b}$.\n",
    "\n",
    "However, for this example we will neglect all external loads and thus the weak form reads:\n",
    "$$\n",
    "\\int_\\Omega\n",
    "  \\boldsymbol{\\sigma} : \\left(\\delta \\boldsymbol{u} \\otimes \\boldsymbol{\\nabla} \\right)\n",
    "\\, \\mathrm{d}V\n",
    "=\n",
    "0 \\,.\n",
    "$$\n",
    "\n",
    "Finally, we choose to operate on a 2-dimensional problem under plain strain conditions.\n",
    "First we load Ferrite, and some other packages we need."
   ],
   "metadata": {}
  },
  {
   "outputs": [],
   "cell_type": "code",
   "source": [
    "using Ferrite, FerriteGmsh, SparseArrays"
   ],
   "metadata": {},
   "execution_count": 1
  },
  {
   "cell_type": "markdown",
   "source": [
    "Like for the Heat Equation example, we will use a unit square - but here we'll load the grid of the Ferrite logo! This is done by loading [`logo.geo`](logo.geo) with [`FerriteGmsh.jl`](https://github.com/Ferrite-FEM/FerriteGmsh.jl) here."
   ],
   "metadata": {}
  },
  {
   "outputs": [
    {
     "name": "stdout",
     "output_type": "stream",
     "text": [
      "Info    : Reading 'logo.geo'...\n",
      "Info    : Done reading 'logo.geo'\n",
      "Info    : Meshing 1D...\n",
      "Info    : [  0%] Meshing curve 1 (Line)\n",
      "Info    : [ 10%] Meshing curve 2 (Line)\n",
      "Info    : [ 20%] Meshing curve 3 (Line)\n",
      "Info    : [ 20%] Meshing curve 4 (Line)\n",
      "Info    : [ 30%] Meshing curve 5 (Line)\n",
      "Info    : [ 30%] Meshing curve 6 (Line)\n",
      "Info    : [ 40%] Meshing curve 7 (Line)\n",
      "Info    : [ 40%] Meshing curve 8 (Line)\n",
      "Info    : [ 50%] Meshing curve 9 (Line)\n",
      "Info    : [ 50%] Meshing curve 10 (Line)\n",
      "Info    : [ 60%] Meshing curve 11 (Line)\n",
      "Info    : [ 70%] Meshing curve 12 (Line)\n",
      "Info    : [ 70%] Meshing curve 13 (Line)\n",
      "Info    : [ 80%] Meshing curve 14 (Line)\n",
      "Info    : [ 80%] Meshing curve 15 (Line)\n",
      "Info    : [ 90%] Meshing curve 16 (Line)\n",
      "Info    : [ 90%] Meshing curve 17 (Line)\n",
      "Info    : [100%] Meshing curve 18 (Line)\n",
      "Info    : Done meshing 1D (Wall 0.0011481s, CPU 0.001149s)\n",
      "Info    : Meshing 2D...\n",
      "Info    : [  0%] Meshing surface 1 (Plane, Frontal-Delaunay)\n",
      "Info    : [ 20%] Meshing surface 2 (Plane, Frontal-Delaunay)\n",
      "Info    : [ 40%] Meshing surface 3 (Plane, Frontal-Delaunay)\n",
      "Info    : [ 50%] Meshing surface 4 (Plane, Frontal-Delaunay)\n",
      "Info    : [ 70%] Meshing surface 5 (Plane, Frontal-Delaunay)\n",
      "Info    : [ 90%] Meshing surface 6 (Plane, Frontal-Delaunay)\n",
      "Info    : Done meshing 2D (Wall 0.00261471s, CPU 0.002614s)\n",
      "Info    : 104 nodes 245 elements\n"
     ]
    }
   ],
   "cell_type": "code",
   "source": [
    "grid = togrid(\"logo.geo\");"
   ],
   "metadata": {},
   "execution_count": 2
  },
  {
   "cell_type": "markdown",
   "source": [
    "By default the grid lacks the facesets for the boundaries, so we add them by Ferrite here.\n",
    "Note that approximate comparison to 0.0 doesn't work well, so we use a tolerance instead."
   ],
   "metadata": {}
  },
  {
   "outputs": [],
   "cell_type": "code",
   "source": [
    "addfaceset!(grid, \"top\", x->x[2] ≈ 1.0)\n",
    "addfaceset!(grid, \"left\", x->x[1] < 1e-6)\n",
    "addfaceset!(grid, \"bottom\", x->x[2] < 1e-6);"
   ],
   "metadata": {},
   "execution_count": 3
  },
  {
   "cell_type": "markdown",
   "source": [
    "### Trial and test functions\n",
    "We use linear Lagrange functions as test and trial functions. The grid is composed of triangular elements, thus we need the Lagrange functions defined on `RefTriangle`. All currently available interpolations can be found under `Interpolation`.\n",
    "\n",
    "Since the displacement field $\\boldsymbol{u}$ is vector valued, we use vector valued shape functions $\\boldsymbol{N}_i$ to approximate the test and trial functions:\n",
    "$$\n",
    "\\boldsymbol{u} \\approx \\sum_{i=1}^N \\boldsymbol{N}_i \\left(\\boldsymbol{x}\\right) \\, \\hat{u}_i\n",
    "\\qquad\n",
    "\\delta \\boldsymbol{u} \\approx \\sum_{i=1}^N \\boldsymbol{N}_i \\left(\\boldsymbol{x}\\right) \\, \\delta \\hat{u}_i\n",
    "$$\n",
    "Here $N$ is the number of nodal variables and $\\hat{u}_i$ / $\\delta\\hat{u}_i$ represent the i-th nodal value.\n",
    "Using the Einstein summation convention, we can write this in short form as\n",
    "$\\boldsymbol{u} \\approx \\boldsymbol{N}_i \\, \\hat{u}_i$ and $\\delta\\boldsymbol{u} \\approx \\boldsymbol{N}_i \\, \\delta\\hat{u}_i$.\n",
    "\n",
    "Here we use linear triangular elements (also called constant strain triangles) with a single\n",
    "quadrature point.\n",
    "The vector valued shape functions are constructed by raising the interpolation\n",
    "to the power `dim` (the dimension) since the displacement field has one component in each\n",
    "spatial dimension."
   ],
   "metadata": {}
  },
  {
   "outputs": [],
   "cell_type": "code",
   "source": [
    "dim = 2\n",
    "order = 1 # linear interpolation\n",
    "ip = Lagrange{RefTriangle, order}()^dim # vector valued interpolation\n",
    "qr = QuadratureRule{RefTriangle}(1) # 1 quadrature point\n",
    "cellvalues = CellValues(qr, ip);"
   ],
   "metadata": {},
   "execution_count": 4
  },
  {
   "cell_type": "markdown",
   "source": [
    "### Degrees of freedom\n",
    "For distributing degrees of freedom, we define a `DofHandler`. The `DofHandler` knows that\n",
    "`u` has two degrees of freedom per node because we vectorized the interpolation above."
   ],
   "metadata": {}
  },
  {
   "outputs": [],
   "cell_type": "code",
   "source": [
    "dh = DofHandler(grid)\n",
    "add!(dh, :u, ip)\n",
    "close!(dh);"
   ],
   "metadata": {},
   "execution_count": 5
  },
  {
   "cell_type": "markdown",
   "source": [
    "### Boundary conditions\n",
    "Now, we add boundary conditions. We simply support the bottom and the left side and\n",
    "prescribe a displacement upwards on the top edge.\n",
    "The last argument to `Dirichlet` determines which components of the field should be\n",
    "constrained."
   ],
   "metadata": {}
  },
  {
   "outputs": [],
   "cell_type": "code",
   "source": [
    "ch = ConstraintHandler(dh)\n",
    "add!(ch, Dirichlet(:u, getfaceset(grid, \"bottom\"), (x, t) -> 0.0, 2))\n",
    "add!(ch, Dirichlet(:u, getfaceset(grid, \"left\"), (x, t) -> 0.0, 1))\n",
    "add!(ch, Dirichlet(:u, getfaceset(grid, \"top\"), (x, t) -> 0.1, 2))\n",
    "close!(ch);"
   ],
   "metadata": {},
   "execution_count": 6
  },
  {
   "cell_type": "markdown",
   "source": [
    "### Material behavior\n",
    "Next, we need to define the material behavior. Since we use linear elasticity here,\n",
    "we have a linear problem and only need to assemble the stiffness matrix, but not the\n",
    "residual vector. Consequently we only need the tangent of the stress $\\boldsymbol{\\sigma}$\n",
    "with respect to the small strain tensor $\\boldsymbol{\\varepsilon}$ for our element routine.\n",
    "\n",
    "We also operate on a 2-dimensional problem under plain strain conditions here, keep in\n",
    "mind that the plane stress stiffness tensor is defined differently."
   ],
   "metadata": {}
  },
  {
   "outputs": [
    {
     "output_type": "execute_result",
     "data": {
      "text/plain": "2×2×2×2 SymmetricTensor{4, 2, Float64, 9}:\n[:, :, 1, 1] =\n 2.69231e5  0.0\n 0.0        1.15385e5\n\n[:, :, 2, 1] =\n     0.0  76923.1\n 76923.1      0.0\n\n[:, :, 1, 2] =\n     0.0  76923.1\n 76923.1      0.0\n\n[:, :, 2, 2] =\n 1.15385e5  0.0\n 0.0        2.69231e5"
     },
     "metadata": {},
     "execution_count": 7
    }
   ],
   "cell_type": "code",
   "source": [
    "E = 200e3 # Young's modulus [MPa]\n",
    "ν = 0.3 # Poisson's ratio [-]\n",
    "\n",
    "λ = E*ν / ((1 + ν) * (1 - 2ν)) # 1st Lamé parameter\n",
    "μ = E / (2(1 + ν)) # 2nd Lamé parameter\n",
    "I = one(SymmetricTensor{2, dim}) # 2nd order unit tensor\n",
    "II = one(SymmetricTensor{4, dim}) # 4th order symmetric unit tensor\n",
    "∂σ∂ε = 2μ * II + λ * (I ⊗ I) # elastic stiffness tensor"
   ],
   "metadata": {},
   "execution_count": 7
  },
  {
   "cell_type": "markdown",
   "source": [
    "### Element routine\n",
    "The stiffness matrix follows from the weak form such that\n",
    "$$\n",
    "\\left(\\underline{\\underline{K}}\\right)_{ij}\n",
    "=\n",
    "\\int_\\Omega\n",
    "  \\left(\n",
    "      \\frac{\\partial \\boldsymbol{\\sigma}}{\\partial \\boldsymbol{\\varepsilon}}\n",
    "      :\n",
    "      \\boldsymbol{\\nabla}^\\mathrm{sym} \\boldsymbol{N}_j\n",
    "  \\right)\n",
    "  :\n",
    "  \\boldsymbol{\\nabla} \\boldsymbol{N}_i\n",
    "\\, \\mathrm{d}V\n",
    "$$\n",
    "The element routine computes the local  stiffness matrix `ke`\n",
    "for a single element. `ke` is pre-allocated and reused for all elements.\n",
    "\n",
    "Note that the elastic stiffness tensor is constant. Thus is needs to be computed and once\n",
    "and can then be used for all integration points."
   ],
   "metadata": {}
  },
  {
   "outputs": [
    {
     "output_type": "execute_result",
     "data": {
      "text/plain": "assemble_cell! (generic function with 1 method)"
     },
     "metadata": {},
     "execution_count": 8
    }
   ],
   "cell_type": "code",
   "source": [
    "function assemble_cell!(ke, cellvalues, ∂σ∂ε)\n",
    "    fill!(ke, 0.0)\n",
    "\n",
    "    n_basefuncs = getnbasefunctions(cellvalues)\n",
    "    for q_point in 1:getnquadpoints(cellvalues)\n",
    "        dΩ = getdetJdV(cellvalues, q_point)\n",
    "        for i in 1:n_basefuncs\n",
    "            ∇Nᵢ = shape_gradient(cellvalues, q_point, i)# shape_symmetric_gradient(cellvalues, q_point, i)\n",
    "            for j in 1:n_basefuncs\n",
    "                ∇ˢʸᵐNⱼ = shape_symmetric_gradient(cellvalues, q_point, j)\n",
    "                ke[i, j] += (∂σ∂ε ⊡ ∇ˢʸᵐNⱼ) ⊡ ∇Nᵢ * dΩ\n",
    "            end\n",
    "        end\n",
    "    end\n",
    "end"
   ],
   "metadata": {},
   "execution_count": 8
  },
  {
   "cell_type": "markdown",
   "source": [
    "#### Global assembly\n",
    "We define the function `assemble_global` to loop over the elements and do the global\n",
    "assembly. The function takes the preallocated sparse matrix `K`, our DofHandler `dh`, our\n",
    "`cellvalues` and the elastic stiffness tensor `∂σ∂ε` as input arguments and computes the\n",
    "global stiffness matrix `K`."
   ],
   "metadata": {}
  },
  {
   "outputs": [
    {
     "output_type": "execute_result",
     "data": {
      "text/plain": "assemble_global! (generic function with 1 method)"
     },
     "metadata": {},
     "execution_count": 9
    }
   ],
   "cell_type": "code",
   "source": [
    "function assemble_global!(K, dh, cellvalues, ∂σ∂ε)\n",
    "    # Allocate the element stiffness matrix\n",
    "    n_basefuncs = getnbasefunctions(cellvalues)\n",
    "    ke = zeros(n_basefuncs, n_basefuncs)\n",
    "    # Create an assembler\n",
    "    assembler = start_assemble(K)\n",
    "    # Loop over all cells\n",
    "    for cell in CellIterator(dh)\n",
    "        reinit!(cellvalues, cell) # update spatial derivatives based on element coordinates\n",
    "        # Compute element contribution\n",
    "        assemble_cell!(ke, cellvalues, ∂σ∂ε)\n",
    "        # Assemble ke and fe into K and f\n",
    "        assemble!(assembler, celldofs(cell), ke)\n",
    "    end\n",
    "    return K\n",
    "end"
   ],
   "metadata": {},
   "execution_count": 9
  },
  {
   "cell_type": "markdown",
   "source": [
    "### Solution of the system\n",
    "The last step is to solve the system. First we allocate the global stiffness matrix `K`\n",
    "and assemble it."
   ],
   "metadata": {}
  },
  {
   "outputs": [],
   "cell_type": "code",
   "source": [
    "K = create_sparsity_pattern(dh)\n",
    "assemble_global!(K, dh, cellvalues, ∂σ∂ε);"
   ],
   "metadata": {},
   "execution_count": 10
  },
  {
   "cell_type": "markdown",
   "source": [
    "Then we allocate the external force vector. Since we don't apply any external forces,\n",
    "it is a zero vector in this case."
   ],
   "metadata": {}
  },
  {
   "outputs": [],
   "cell_type": "code",
   "source": [
    "f = zeros(ndofs(dh));"
   ],
   "metadata": {},
   "execution_count": 11
  },
  {
   "cell_type": "markdown",
   "source": [
    "To account for the Dirichlet boundary conditions we use the `apply!` function.\n",
    "This modifies elements in `K` and `f` respectively, such that\n",
    "we can get the correct solution vector `u` by using `\\`."
   ],
   "metadata": {}
  },
  {
   "outputs": [],
   "cell_type": "code",
   "source": [
    "apply!(K, f, ch)\n",
    "u = K \\ f;"
   ],
   "metadata": {},
   "execution_count": 12
  },
  {
   "cell_type": "markdown",
   "source": [
    "### Exporting to VTK\n",
    "To visualize the result we export the grid and our field `u`\n",
    "to a VTK-file, which can be viewed in e.g. [ParaView](https://www.paraview.org/)."
   ],
   "metadata": {}
  },
  {
   "outputs": [
    {
     "output_type": "execute_result",
     "data": {
      "text/plain": "1-element Vector{String}:\n \"linear_elasticity.vtu\""
     },
     "metadata": {},
     "execution_count": 13
    }
   ],
   "cell_type": "code",
   "source": [
    "vtk_grid(\"linear_elasticity\", dh) do vtk\n",
    "    vtk_point_data(vtk, dh, u)\n",
    "    vtk_cellset(vtk, grid) # export cellsets of grains for logo-coloring\n",
    "end"
   ],
   "metadata": {},
   "execution_count": 13
  },
  {
   "cell_type": "markdown",
   "source": [
    "---\n",
    "\n",
    "*This notebook was generated using [Literate.jl](https://github.com/fredrikekre/Literate.jl).*"
   ],
   "metadata": {}
  }
 ],
 "nbformat_minor": 3,
 "metadata": {
  "language_info": {
   "file_extension": ".jl",
   "mimetype": "application/julia",
   "name": "julia",
   "version": "1.9.3"
  },
  "kernelspec": {
   "name": "julia-1.9",
   "display_name": "Julia 1.9.3",
   "language": "julia"
  }
 },
 "nbformat": 4
}
