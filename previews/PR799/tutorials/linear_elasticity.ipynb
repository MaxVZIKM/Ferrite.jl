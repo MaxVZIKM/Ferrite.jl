{
 "cells": [
  {
   "cell_type": "markdown",
   "source": [
    "# Linear elasticity\n",
    "\n",
    "![](linear_elasticity.png)\n",
    "\n",
    "*Figure 1*: Linear elastically deformed Ferrite logo."
   ],
   "metadata": {}
  },
  {
   "cell_type": "markdown",
   "source": [
    "## Introduction\n",
    "\n",
    "The classical first finite element problem to solve in solid mechanics is a linear balance\n",
    "of momentum problem. We will use this to introduce a vector valued field, as well as the\n",
    "[`Tensors.jl`](https://github.com/Ferrite-FEM/Tensors.jl) toolbox.\n",
    "\n",
    "The strong form of the balance of momentum is given by\n",
    "$$\n",
    " -\\boldsymbol{\\sigma} \\cdot \\boldsymbol{\\nabla} = \\boldsymbol{b}  \\quad \\textbf{x} \\in \\Omega,\n",
    "$$\n",
    "where $\\boldsymbol{\\sigma}$ is the stress tensor, $\\boldsymbol{b}$ is the body force and\n",
    "$\\Omega$ the domain.\n",
    "\n",
    "In this example, we use linear elasticity, such that\n",
    "$$\n",
    "\\boldsymbol{\\sigma} = \\boldsymbol{E} : \\boldsymbol \\varepsilon\n",
    "$$\n",
    "where $\\boldsymbol{E}$ is the elastic stiffness tensor and $\\boldsymbol{\\varepsilon}$ is\n",
    "the small strain tensor that is computed from the displacement field $\\boldsymbol{u}$ as\n",
    "$$\n",
    "\\boldsymbol{\\varepsilon} = \\frac{1}{2} \\left(\n",
    "  \\boldsymbol{\\nabla} \\otimes \\boldsymbol{u}\n",
    "  +\n",
    "  \\boldsymbol{u} \\otimes \\boldsymbol{\\nabla}\n",
    "\\right)\n",
    "$$\n",
    "\n",
    "The resulting weak form is given given as follows: Find $\\boldsymbol{u} \\in \\mathbb{U}$ such that\n",
    "$$\n",
    "\\int_\\Omega\n",
    "  \\boldsymbol{\\sigma} : \\left(\\delta \\boldsymbol{u} \\otimes \\boldsymbol{\\nabla} \\right)\n",
    "\\, \\mathrm{d}V\n",
    "=\n",
    "\\int_{\\partial\\Omega}\n",
    "  \\boldsymbol{t}^\\ast \\cdot \\delta \\boldsymbol{u}\n",
    "\\, \\mathrm{d}A\n",
    "+\n",
    "\\int_\\Omega\n",
    "  \\boldsymbol{b} \\cdot \\delta \\boldsymbol{u}\n",
    "\\, \\mathrm{d}V\n",
    "\\quad \\forall \\, \\delta \\boldsymbol{u} \\in \\mathbb{T},\n",
    "$$\n",
    "where $\\delta \\boldsymbol{u}$ is a vector valued test function, and where $\\mathbb{U}$ and\n",
    "$\\mathbb{T}$ are suitable trial and test function sets, respectively. The boundary traction\n",
    "is denoted $\\boldsymbol{t}^\\ast$ and body forces are denoted $\\boldsymbol{b}$.\n",
    "\n",
    "However, for this example we will neglect all external loads and thus the weak form reads:\n",
    "$$\n",
    "\\int_\\Omega\n",
    "  \\boldsymbol{\\sigma} : \\left(\\delta \\boldsymbol{u} \\otimes \\boldsymbol{\\nabla} \\right)\n",
    "\\, \\mathrm{d}V\n",
    "=\n",
    "0 \\,.\n",
    "$$"
   ],
   "metadata": {}
  },
  {
   "cell_type": "markdown",
   "source": [
    "First we load Ferrite, and some other packages we need."
   ],
   "metadata": {}
  },
  {
   "outputs": [],
   "cell_type": "code",
   "source": [
    "using Ferrite, FerriteGmsh, SparseArrays"
   ],
   "metadata": {},
   "execution_count": 1
  },
  {
   "cell_type": "markdown",
   "source": [
    "Like for the Heat Equation example, we will use a unit square - but here we'll load the grid of the Ferrite logo! This is done by loading [`logo.geo`](logo.geo) with [`FerriteGmsh.jl`](https://github.com/Ferrite-FEM/FerriteGmsh.jl) here."
   ],
   "metadata": {}
  },
  {
   "outputs": [
    {
     "name": "stdout",
     "output_type": "stream",
     "text": [
      "Info    : Reading 'logo.geo'...\n",
      "Info    : Done reading 'logo.geo'\n",
      "Info    : Meshing 1D...\n",
      "Info    : [  0%] Meshing curve 1 (Line)\n",
      "Info    : [ 10%] Meshing curve 2 (Line)\n",
      "Info    : [ 20%] Meshing curve 3 (Line)\n",
      "Info    : [ 20%] Meshing curve 4 (Line)\n",
      "Info    : [ 30%] Meshing curve 5 (Line)\n",
      "Info    : [ 30%] Meshing curve 6 (Line)\n",
      "Info    : [ 40%] Meshing curve 7 (Line)\n",
      "Info    : [ 40%] Meshing curve 8 (Line)\n",
      "Info    : [ 50%] Meshing curve 9 (Line)\n",
      "Info    : [ 50%] Meshing curve 10 (Line)\n",
      "Info    : [ 60%] Meshing curve 11 (Line)\n",
      "Info    : [ 70%] Meshing curve 12 (Line)\n",
      "Info    : [ 70%] Meshing curve 13 (Line)\n",
      "Info    : [ 80%] Meshing curve 14 (Line)\n",
      "Info    : [ 80%] Meshing curve 15 (Line)\n",
      "Info    : [ 90%] Meshing curve 16 (Line)\n",
      "Info    : [ 90%] Meshing curve 17 (Line)\n",
      "Info    : [100%] Meshing curve 18 (Line)\n",
      "Info    : Done meshing 1D (Wall 0.00116321s, CPU 0.001153s)\n",
      "Info    : Meshing 2D...\n",
      "Info    : [  0%] Meshing surface 1 (Plane, Frontal-Delaunay)\n",
      "Info    : [ 20%] Meshing surface 2 (Plane, Frontal-Delaunay)\n",
      "Info    : [ 40%] Meshing surface 3 (Plane, Frontal-Delaunay)\n",
      "Info    : [ 50%] Meshing surface 4 (Plane, Frontal-Delaunay)\n",
      "Info    : [ 70%] Meshing surface 5 (Plane, Frontal-Delaunay)\n",
      "Info    : [ 90%] Meshing surface 6 (Plane, Frontal-Delaunay)\n",
      "Info    : Done meshing 2D (Wall 0.00266981s, CPU 0.002669s)\n",
      "Info    : 104 nodes 245 elements\n"
     ]
    }
   ],
   "cell_type": "code",
   "source": [
    "grid = togrid(\"logo.geo\");"
   ],
   "metadata": {},
   "execution_count": 2
  },
  {
   "cell_type": "markdown",
   "source": [
    "By default the grid lacks the facesets for the boundaries, so we add them by Ferrite here.\n",
    "Note that approximate comparison to 0.0 doesn't work well, so we use a tolerance instead."
   ],
   "metadata": {}
  },
  {
   "outputs": [],
   "cell_type": "code",
   "source": [
    "addfaceset!(grid, \"top\", x->x[2] ≈ 1.0)\n",
    "addfaceset!(grid, \"left\", x->x[1] < 1e-6)\n",
    "addfaceset!(grid, \"bottom\", x->x[2] < 1e-6);"
   ],
   "metadata": {},
   "execution_count": 3
  },
  {
   "cell_type": "markdown",
   "source": [
    "### Trial and test functions\n",
    "We use linear Lagrange functions as test and trial functions. The grid is composed of triangular elements, thus we need the Lagrange functions defined on `RefTriangle`. All currently available interpolations can be found under `Interpolation`.\n",
    "\n",
    "Since the displacement field $\\boldsymbol{u}$ is vector valued, we use vector valued shape functions $\\boldsymbol{N}_i$ to approximate the test and trial functions:\n",
    "$$\n",
    "\\boldsymbol{u} \\approx \\sum_{i=1}^N \\boldsymbol{N}_i \\left(\\boldsymbol{x}\\right) \\, \\hat{u}_i\n",
    "\\qquad\n",
    "\\delta \\boldsymbol{u} \\approx \\sum_{i=1}^N \\boldsymbol{N}_i \\left(\\boldsymbol{x}\\right) \\, \\delta \\hat{u}_i\n",
    "$$\n",
    "Here $N$ is the number of nodal variables and $\\hat{u}_i$ / $\\delta\\hat{u}_i$ represent the i-th nodal value.\n",
    "Using the Einstein summation convention, we can write this in short form as\n",
    "$\\boldsymbol{u} \\approx \\boldsymbol{N}_i \\, \\hat{u}_i$ and $\\delta\\boldsymbol{u} \\approx \\boldsymbol{N}_i \\, \\delta\\hat{u}_i$.\n",
    "\n",
    "Here we use linear triangular elements (also called constant strain triangles) with a single\n",
    "quadrature point.\n",
    "The vector valued shape functions are constructed by raising the interpolation\n",
    "to the power `dim` (the dimension) since the displacement field has one component in each\n",
    "spatial dimension."
   ],
   "metadata": {}
  },
  {
   "outputs": [],
   "cell_type": "code",
   "source": [
    "dim = 2\n",
    "order = 1 # linear interpolation\n",
    "ip = Lagrange{RefTriangle, order}()^dim # vector valued interpolation\n",
    "qr = QuadratureRule{RefTriangle}(1) # 1 quadrature point\n",
    "cellvalues = CellValues(qr, ip);"
   ],
   "metadata": {},
   "execution_count": 4
  },
  {
   "cell_type": "markdown",
   "source": [
    "### Degrees of freedom\n",
    "For distributing degrees of freedom, we define a `DofHandler`. The `DofHandler` knows that `u` has two degrees of freedom per node because we vectorized the interpolation above."
   ],
   "metadata": {}
  },
  {
   "outputs": [],
   "cell_type": "code",
   "source": [
    "dh = DofHandler(grid)\n",
    "add!(dh, :u, ip)\n",
    "close!(dh);"
   ],
   "metadata": {},
   "execution_count": 5
  },
  {
   "cell_type": "markdown",
   "source": [
    "### Boundary conditions\n",
    "Now, we add boundary conditions. We simply support the bottom and the left side and prescribe a displacement upwards on the top edge.\n",
    "The last argument to `Dirichlet` determines which components of the field should be constrained."
   ],
   "metadata": {}
  },
  {
   "outputs": [],
   "cell_type": "code",
   "source": [
    "ch = ConstraintHandler(dh)\n",
    "add!(ch, Dirichlet(:u, getfaceset(grid, \"bottom\"), (x, t) -> 0.0, 2))\n",
    "add!(ch, Dirichlet(:u, getfaceset(grid, \"left\"), (x, t) -> 0.0, 1))\n",
    "add!(ch, Dirichlet(:u, getfaceset(grid, \"top\"), (x, t) -> 0.1, 2))\n",
    "close!(ch);"
   ],
   "metadata": {},
   "execution_count": 6
  },
  {
   "cell_type": "markdown",
   "source": [
    "### Material routine\n",
    "For the sake of structuring the program, we introduce a material routine here.\n",
    "We define a data structure that holds the material constants, here it stores the\n",
    "shear modulus $G$ and the bulk modulus $K$. The material routine then computes the stress\n",
    "$\\boldsymbol{\\sigma}$ and its tangent $\\frac{\\partial\\boldsymbol{\\sigma}}{\\partial\\boldsymbol{\\varepsilon}}$\n",
    "based on the input strain $\\boldsymbol{\\varepsilon}$. Here, we use automatic differentiation\n",
    "for computing the stress tangent. You can read more about automatic differentiation on tensor\n",
    "operations in the [`Tensors.jl` docs](https://ferrite-fem.github.io/Tensors.jl/stable/man/automatic_differentiation/)."
   ],
   "metadata": {}
  },
  {
   "outputs": [],
   "cell_type": "code",
   "source": [
    "struct Elasticity\n",
    "    G::Float64\n",
    "    K::Float64\n",
    "end\n",
    "\n",
    "function material_routine(material::Elasticity, ε::SymmetricTensor{2})\n",
    "    (; G, K) = material\n",
    "    stress(ε) = 2G * dev(ε) + K * tr(ε) * one(ε)\n",
    "    ∂σ∂ε, σ = gradient(stress, ε, :all)\n",
    "    return σ, ∂σ∂ε\n",
    "end\n",
    "\n",
    "E = 200e3 # Young's modulus [MPa]\n",
    "ν = 0.3 # Poisson's ratio [-]\n",
    "material = Elasticity(E/2(1+ν), E/3(1-2ν));"
   ],
   "metadata": {},
   "execution_count": 7
  },
  {
   "cell_type": "markdown",
   "source": [
    "### Element routine\n",
    "The residual vector and stiffness matrix follow from the weak form such that\n",
    "$$\n",
    "\\left(\\underline{R}\\right)_i\n",
    "=\n",
    "\\int_\\Omega\n",
    "  \\boldsymbol{\\sigma} : \\boldsymbol{\\nabla} \\boldsymbol{N}_i\n",
    "\\, \\mathrm{d}V\n",
    "\\,, \\qquad\n",
    "\\left(\\underline{\\underline{K}}\\right)_{ij}\n",
    "=\n",
    "\\int_\\Omega\n",
    "  \\left(\n",
    "      \\frac{\\partial \\boldsymbol{\\sigma}}{\\partial \\boldsymbol{\\varepsilon}}\n",
    "      :\n",
    "      \\boldsymbol{\\nabla}^\\mathrm{sym} \\boldsymbol{N}_j\n",
    "  \\right)\n",
    "  :\n",
    "  \\boldsymbol{\\nabla} \\boldsymbol{N}_i\n",
    "\\, \\mathrm{d}V\n",
    "$$\n",
    "The element routine computes the local residual vector `re` and stiffness matrix `ke`\n",
    "for a single element. `ke` and `re` are pre-allocated and reused for all elements."
   ],
   "metadata": {}
  },
  {
   "outputs": [
    {
     "output_type": "execute_result",
     "data": {
      "text/plain": "assemble_cell! (generic function with 1 method)"
     },
     "metadata": {},
     "execution_count": 8
    }
   ],
   "cell_type": "code",
   "source": [
    "function assemble_cell!(ke, fe, cellvalues, material, ue)\n",
    "    fill!(ke, 0.0)\n",
    "    fill!(fe, 0.0)\n",
    "\n",
    "    n_basefuncs = getnbasefunctions(cellvalues)\n",
    "    for q_point in 1:getnquadpoints(cellvalues)\n",
    "        # For each integration point, compute strain, stress and material stiffness\n",
    "        ε = function_symmetric_gradient(cellvalues, q_point, ue)\n",
    "        σ, ∂σ∂ε = material_routine(material, ε)\n",
    "\n",
    "        dΩ = getdetJdV(cellvalues, q_point)\n",
    "        for i in 1:n_basefuncs\n",
    "            ∇Nᵢ = shape_gradient(cellvalues, q_point, i)# shape_symmetric_gradient(cellvalues, q_point, i)\n",
    "            fe[i] += σ ⊡ ∇Nᵢ * dΩ # add internal force to residual\n",
    "            for j in 1:n_basefuncs\n",
    "                ∇ˢʸᵐNⱼ = shape_symmetric_gradient(cellvalues, q_point, j)\n",
    "                ke[i, j] += (∂σ∂ε ⊡ ∇ˢʸᵐNⱼ) ⊡ ∇Nᵢ * dΩ\n",
    "            end\n",
    "        end\n",
    "    end\n",
    "end"
   ],
   "metadata": {},
   "execution_count": 8
  },
  {
   "cell_type": "markdown",
   "source": [
    "#### Global assembly\n",
    "We define the function `assemble_global` to loop over the elements and do the global\n",
    "assembly. The function takes the sparse matrix `K`, a guess of the displacement vector\n",
    "(this would be more relevant for non-linear problems), our DofHandler, our `cellvalues` and\n",
    "the material definition that we want to use for the stress computation\n",
    "as input arguments and fills the assembled global stiffness matrix, and the assembled\n",
    "global force vector."
   ],
   "metadata": {}
  },
  {
   "outputs": [
    {
     "output_type": "execute_result",
     "data": {
      "text/plain": "assemble_global! (generic function with 1 method)"
     },
     "metadata": {},
     "execution_count": 9
    }
   ],
   "cell_type": "code",
   "source": [
    "function assemble_global!(K, f, a, dh, cellvalues, material)\n",
    "    # Allocate the element stiffness matrix and element force vector\n",
    "    n_basefuncs = getnbasefunctions(cellvalues)\n",
    "    ke = zeros(n_basefuncs, n_basefuncs)\n",
    "    fe = zeros(n_basefuncs)\n",
    "    # Create an assembler\n",
    "    assembler = start_assemble(K, f)\n",
    "    # Loop over all cells\n",
    "    for cell in CellIterator(dh)\n",
    "        reinit!(cellvalues, cell) # update spatial derivatives based on element coordinates\n",
    "        @views ue = a[celldofs(cell)]\n",
    "        # Compute element contribution\n",
    "        assemble_cell!(ke, fe, cellvalues, material, ue)\n",
    "        # Assemble ke and fe into K and f\n",
    "        assemble!(assembler, celldofs(cell), ke, fe)\n",
    "    end\n",
    "    return K, f\n",
    "end"
   ],
   "metadata": {},
   "execution_count": 9
  },
  {
   "cell_type": "markdown",
   "source": [
    "### Solution of the system\n",
    "The last step is to solve the system. First we call `assemble_global`\n",
    "to obtain the global stiffness matrix `K` and force vector `f`."
   ],
   "metadata": {}
  },
  {
   "outputs": [],
   "cell_type": "code",
   "source": [
    "K = create_sparsity_pattern(dh)\n",
    "f = zeros(ndofs(dh))\n",
    "a = zeros(ndofs(dh))\n",
    "assemble_global!(K, f, a, dh, cellvalues, material);"
   ],
   "metadata": {},
   "execution_count": 10
  },
  {
   "cell_type": "markdown",
   "source": [
    "To account for the Dirichlet boundary conditions we use the `apply!` function.\n",
    "This modifies elements in `K` and `f` respectively, such that\n",
    "we can get the correct solution vector `u` by using `\\`."
   ],
   "metadata": {}
  },
  {
   "outputs": [],
   "cell_type": "code",
   "source": [
    "apply!(K, f, ch)\n",
    "u = K \\ f;"
   ],
   "metadata": {},
   "execution_count": 11
  },
  {
   "cell_type": "markdown",
   "source": [
    "### Exporting to VTK\n",
    "To visualize the result we export the grid and our field `u`\n",
    "to a VTK-file, which can be viewed in e.g. [ParaView](https://www.paraview.org/)."
   ],
   "metadata": {}
  },
  {
   "outputs": [
    {
     "output_type": "execute_result",
     "data": {
      "text/plain": "1-element Vector{String}:\n \"linear_elasticity.vtu\""
     },
     "metadata": {},
     "execution_count": 12
    }
   ],
   "cell_type": "code",
   "source": [
    "vtk_grid(\"linear_elasticity\", dh) do vtk\n",
    "    vtk_point_data(vtk, dh, u)\n",
    "    vtk_cellset(vtk, grid)\n",
    "end"
   ],
   "metadata": {},
   "execution_count": 12
  },
  {
   "cell_type": "markdown",
   "source": [
    "---\n",
    "\n",
    "*This notebook was generated using [Literate.jl](https://github.com/fredrikekre/Literate.jl).*"
   ],
   "metadata": {}
  }
 ],
 "nbformat_minor": 3,
 "metadata": {
  "language_info": {
   "file_extension": ".jl",
   "mimetype": "application/julia",
   "name": "julia",
   "version": "1.9.3"
  },
  "kernelspec": {
   "name": "julia-1.9",
   "display_name": "Julia 1.9.3",
   "language": "julia"
  }
 },
 "nbformat": 4
}
