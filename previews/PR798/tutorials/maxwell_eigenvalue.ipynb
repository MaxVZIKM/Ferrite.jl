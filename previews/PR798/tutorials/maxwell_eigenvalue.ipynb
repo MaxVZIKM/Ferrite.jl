{
 "cells": [
  {
   "cell_type": "markdown",
   "source": [
    "The Maxwell eigenvalue problem\n",
    "Following the Fenics tutorial,\n",
    "[*Stable and unstable finite elements for the Maxwell eigenvalue problem*](https://fenicsproject.org/olddocs/dolfin/2019.1.0/python/demos/maxwell-eigenvalues/demo_maxwell-eigenvalues.py.html),\n",
    "we show how Nedelec elements can be used\n",
    "with Ferrite.jl\n",
    "## Problem description\n",
    "### Strong form\n",
    "\n",
    "### Weak form\n",
    "$$\n",
    "\\int_\\Omega \\mathrm{curl}(\\boldsymbol{\\delta u}) \\cdot \\mathrm{curl}(\\boldsymbol{u})\\, \\mathrm{d}\\Omega = \\lambda \\int_\\Omega \\boldsymbol{\\delta u}\\cdot \\boldsymbol{u}\\ \\mathrm{d}\\Omega\n",
    "$$\n",
    "### FE form\n",
    "$$\n",
    "\\begin{align*}\n",
    "\\int_\\Omega \\mathrm{curl}(\\boldsymbol{\\delta N}_i) \\cdot \\mathrm{curl}(\\boldsymbol{N}_j)\\, \\mathrm{d}\\Omega a_j &= \\lambda \\int_\\Omega \\boldsymbol{\\delta N}_i\\cdot \\boldsymbol{N}_j\\ \\mathrm{d}\\Omega a_j \\\\\n",
    "A_{ij} a_j &= \\lambda B_{ij} a_j\n",
    "\\end{align*}\n",
    "$$"
   ],
   "metadata": {}
  },
  {
   "cell_type": "markdown",
   "source": [
    "https://iterativesolvers.julialinearalgebra.org/dev/eigenproblems/lobpcg/"
   ],
   "metadata": {}
  },
  {
   "outputs": [
    {
     "output_type": "execute_result",
     "data": {
      "text/plain": "10-element Vector{Float64}:\n -1.6462541925631543e-12\n -6.512902988712444e-13\n  9.4843359010763e-13\n  1.662582413372095e-12\n  2.847707897868299e-12\n  3.073283695620881e-12\n  4.223339450483108e-12\n  5.448288941985105e-12\n  1.9120528190934298e-10\n  0.029949554339989085"
     },
     "metadata": {},
     "execution_count": 1
    }
   ],
   "cell_type": "code",
   "source": [
    "using Ferrite\n",
    "import Ferrite: Nedelec, RaviartThomas\n",
    "import IterativeSolvers: lobpcg\n",
    "using LinearAlgebra\n",
    "\n",
    "function assemble_cell!(Ae, Be, cv)\n",
    "    n = getnbasefunctions(cv)\n",
    "    for q_point in 1:getnquadpoints(cv)\n",
    "        dΩ = getdetJdV(cv, q_point)\n",
    "        for i in 1:n\n",
    "            δNi = shape_value(cv, q_point, i)\n",
    "            curl_δNi = shape_curl(cv, q_point, i)\n",
    "            for j in 1:n\n",
    "                Nj = shape_value(cv, q_point, j)\n",
    "                curl_Nj = shape_curl(cv, q_point, j)\n",
    "                Ae[i,j] += (curl_δNi ⋅ curl_Nj)*dΩ\n",
    "                Be[i,j] += (δNi ⋅ Nj)*dΩ\n",
    "            end\n",
    "        end\n",
    "    end\n",
    "    return Ae, Be\n",
    "end\n",
    "\n",
    "function doassemble(dh::DofHandler, cv::CellValues)\n",
    "    grid = dh.grid\n",
    "    A, B = create_sparsity_pattern.((dh, dh))\n",
    "    assemA, assemB = start_assemble.((A, B))\n",
    "    x = getcoordinates(grid, 1)\n",
    "    n_el_dofs = ndofs_per_cell(dh, 1)\n",
    "    dofs = zeros(Int, n_el_dofs)\n",
    "    Ae, Be = [zeros(n_el_dofs, n_el_dofs) for _ in 1:2]\n",
    "\n",
    "    for (ic, cell) in pairs(getcells(grid))\n",
    "        getcoordinates!(x, grid, cell)\n",
    "        celldofs!(dofs, dh, ic)\n",
    "        reinit!(cv, x, cell)\n",
    "        fill!.((Ae, Be), 0)\n",
    "        assemble_cell!(Ae, Be, cv)\n",
    "        assemble!(assemA, dofs, Ae)\n",
    "        assemble!(assemB, dofs, Be)\n",
    "    end\n",
    "    return A, B\n",
    "end\n",
    "\n",
    "function get_matrices(ip::Interpolation; CT=Quadrilateral, nel=40, usebc=true)\n",
    "    RefShape = Ferrite.getrefshape(ip)\n",
    "    grid = generate_grid(CT, (nel,nel), zero(Vec{2}), π*ones(Vec{2}))\n",
    "    dh = DofHandler(grid)\n",
    "    add!(dh, :u, ip)\n",
    "    close!(dh)\n",
    "    ip_geo = Ferrite.default_interpolation(CT)\n",
    "    cv = CellValues(QuadratureRule{RefShape}(2), ip, ip_geo)\n",
    "    A, B = doassemble(dh, cv)\n",
    "    if usebc\n",
    "        ch = ConstraintHandler(dh)\n",
    "        dΩh = union(getfaceset(grid, \"left\"), getfaceset(grid, \"right\"))\n",
    "        dΩv = union(getfaceset(grid, \"top\"), getfaceset(grid, \"bottom\"))\n",
    "        if ip isa VectorizedInterpolation\n",
    "            add!(ch, Dirichlet(:u, dΩh, Returns(0.0), 2)) # y-component on left-right\n",
    "            add!(ch, Dirichlet(:u, dΩv, Returns(0.0), 1)) # x-component on top-bottom\n",
    "        else\n",
    "            add!(ch, Dirichlet(:u, union!(dΩh,dΩv), Returns(0.0)))\n",
    "        end\n",
    "        close!(ch)\n",
    "        update!(ch, 0.0)\n",
    "        apply!(A, ch)\n",
    "        apply!(B, ch)\n",
    "    end\n",
    "    return A, B\n",
    "end\n",
    "\n",
    "function solve(ip; num_values, kwargs...)\n",
    "    A, B = get_matrices(ip; kwargs...)\n",
    "    n = size(A,1)\n",
    "    r = lobpcg(Symmetric(A), Symmetric(B), false, zeros(n,num_values))\n",
    "    return r.λ\n",
    "end\n",
    "\n",
    "ip = Nedelec{2,RefTriangle,1}()\n",
    "#ip = Lagrange{RefTriangle,1}()^2\n",
    "\n",
    "λ = solve(ip; CT=Triangle, num_values=10)"
   ],
   "metadata": {},
   "execution_count": 1
  },
  {
   "cell_type": "markdown",
   "source": [
    "---\n",
    "\n",
    "*This notebook was generated using [Literate.jl](https://github.com/fredrikekre/Literate.jl).*"
   ],
   "metadata": {}
  }
 ],
 "nbformat_minor": 3,
 "metadata": {
  "language_info": {
   "file_extension": ".jl",
   "mimetype": "application/julia",
   "name": "julia",
   "version": "1.9.3"
  },
  "kernelspec": {
   "name": "julia-1.9",
   "display_name": "Julia 1.9.3",
   "language": "julia"
  }
 },
 "nbformat": 4
}
